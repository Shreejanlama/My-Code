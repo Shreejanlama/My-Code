{
 "cells": [
  {
   "cell_type": "code",
   "execution_count": 6,
   "id": "04f5b853",
   "metadata": {},
   "outputs": [],
   "source": [
    "class Person:\n",
    "    \n",
    "    def __init__(self, name ,age, address):\n",
    "        self.name = name\n",
    "        self.age = age\n",
    "        self.address = address\n",
    "    \n",
    "    def eat(self): # self is object\n",
    "        print(f'{self.name} is eating')\n",
    "    \n",
    "    def sleep(self):\n",
    "        print(f'{self.name} is sleeping')\n",
    "    \n",
    "    def walk(self):\n",
    "        print(f'{self.name} is walking')\n",
    "        \n",
    "    def info(self):\n",
    "        print(f\"Name: {self.name}\")\n",
    "        print(f\"Age: {self.age}\")\n",
    "        print(f\"Address: {self.address}\")"
   ]
  },
  {
   "cell_type": "code",
   "execution_count": 7,
   "id": "1e5ec36f",
   "metadata": {},
   "outputs": [
    {
     "name": "stdout",
     "output_type": "stream",
     "text": [
      "Name: ram\n",
      "Age: 18\n",
      "Address: ktm\n"
     ]
    }
   ],
   "source": [
    "p1 = Person(\"ram\", 18, 'ktm')\n",
    "p1.info()"
   ]
  },
  {
   "cell_type": "code",
   "execution_count": 15,
   "id": "2ae510d2",
   "metadata": {},
   "outputs": [],
   "source": [
    "# name, age, address, college, faculty, roll_no\n",
    "class Student:\n",
    "    def __init__(self,name, age, address, college, faculty, roll_no):\n",
    "        self.name = name\n",
    "        self.age = age        \n",
    "        self.address = address        \n",
    "        self.college = college\n",
    "        self.faculty = faculty        \n",
    "        self.roll_no = roll_no\n",
    "        self.subjects = []\n",
    "        \n",
    "    def learn(self):\n",
    "        print(f\"Student is learning {self.subjects}\")"
   ]
  },
  {
   "cell_type": "code",
   "execution_count": 16,
   "id": "363fd6cb",
   "metadata": {},
   "outputs": [
    {
     "name": "stdout",
     "output_type": "stream",
     "text": [
      "Student is learning []\n"
     ]
    }
   ],
   "source": [
    "s1 = Student(name=\"ram\", age=22, address='ktm', college='broadway', faculty='it', roll_no=2)\n",
    "s1.learn()"
   ]
  },
  {
   "cell_type": "code",
   "execution_count": 17,
   "id": "f8b8eb6b",
   "metadata": {},
   "outputs": [],
   "source": [
    "# name, age, address, college, faculty, roll_no\n",
    "class Student:\n",
    "    def __init__(self,name, age, address, college, faculty, roll_no):\n",
    "        self.name = name\n",
    "        self.age = age        \n",
    "        self.address = address        \n",
    "        self.college = college\n",
    "        self.faculty = faculty        \n",
    "        self.roll_no = roll_no\n",
    "        self.subjects = []\n",
    "        \n",
    "    def learn(self):\n",
    "        print(f\"Student is learning {self.subjects}\")\n",
    "        \n",
    "    def add_subject(self, subject_name):\n",
    "        self.subjects.append(subject_name)"
   ]
  },
  {
   "cell_type": "code",
   "execution_count": 18,
   "id": "dbb80b30",
   "metadata": {},
   "outputs": [
    {
     "name": "stdout",
     "output_type": "stream",
     "text": [
      "Student is learning []\n"
     ]
    }
   ],
   "source": [
    "s1 = Student(name=\"ram\", age=22, address='ktm', college='broadway', faculty='it', roll_no=2)\n",
    "s1.learn()"
   ]
  },
  {
   "cell_type": "code",
   "execution_count": 19,
   "id": "d60967e5",
   "metadata": {},
   "outputs": [],
   "source": [
    "s1.add_subject('Python')"
   ]
  },
  {
   "cell_type": "code",
   "execution_count": 20,
   "id": "2b5188d3",
   "metadata": {},
   "outputs": [
    {
     "name": "stdout",
     "output_type": "stream",
     "text": [
      "Student is learning ['Python']\n"
     ]
    }
   ],
   "source": [
    "s1.learn()"
   ]
  },
  {
   "cell_type": "code",
   "execution_count": 21,
   "id": "eb46f03e",
   "metadata": {},
   "outputs": [
    {
     "name": "stdout",
     "output_type": "stream",
     "text": [
      "Student is learning ['Python', 'Django']\n"
     ]
    }
   ],
   "source": [
    "s1.add_subject('Django')\n",
    "s1.learn()"
   ]
  },
  {
   "cell_type": "code",
   "execution_count": 22,
   "id": "7d11a0c5",
   "metadata": {},
   "outputs": [
    {
     "name": "stdout",
     "output_type": "stream",
     "text": [
      "Student is learning []\n"
     ]
    }
   ],
   "source": [
    "s2 = Student(name=\"shyam\", age=22, address='ktm', college='broadway', faculty='it', roll_no=2)\n",
    "s2.learn()"
   ]
  },
  {
   "cell_type": "code",
   "execution_count": 23,
   "id": "8997dfe3",
   "metadata": {},
   "outputs": [
    {
     "name": "stdout",
     "output_type": "stream",
     "text": [
      "Student is learning ['html']\n"
     ]
    }
   ],
   "source": [
    "s2.add_subject('html')\n",
    "s2.learn()"
   ]
  },
  {
   "cell_type": "code",
   "execution_count": 24,
   "id": "8f1dce43",
   "metadata": {},
   "outputs": [
    {
     "name": "stdout",
     "output_type": "stream",
     "text": [
      "Student is learning ['html', 'html']\n"
     ]
    }
   ],
   "source": [
    "s2.add_subject('html')\n",
    "s2.learn()"
   ]
  },
  {
   "cell_type": "code",
   "execution_count": 25,
   "id": "5c37cb83",
   "metadata": {},
   "outputs": [
    {
     "name": "stdout",
     "output_type": "stream",
     "text": [
      "Student is learning ['html', 'html', 'html']\n"
     ]
    }
   ],
   "source": [
    "s2.add_subject('html')\n",
    "s2.learn()"
   ]
  },
  {
   "cell_type": "code",
   "execution_count": 26,
   "id": "38ce61b5",
   "metadata": {},
   "outputs": [],
   "source": [
    "# name, age, address, college, faculty, roll_no\n",
    "class Student:\n",
    "    def __init__(self,name, age, address, college, faculty, roll_no):\n",
    "        self.name = name\n",
    "        self.age = age        \n",
    "        self.address = address        \n",
    "        self.college = college\n",
    "        self.faculty = faculty        \n",
    "        self.roll_no = roll_no\n",
    "        self.subjects = []\n",
    "        \n",
    "    def learn(self):\n",
    "        print(f\"Student is learning {self.subjects}\")\n",
    "        \n",
    "    # method / function\n",
    "    def add_subject(self, subject_name):\n",
    "        if subject_name not in self.subjects:\n",
    "            self.subjects.append(subject_name)"
   ]
  },
  {
   "cell_type": "code",
   "execution_count": 27,
   "id": "c9135152",
   "metadata": {},
   "outputs": [
    {
     "name": "stdout",
     "output_type": "stream",
     "text": [
      "Student is learning []\n"
     ]
    }
   ],
   "source": [
    "s1 = Student(name=\"ram\", age=22, address='ktm', college='broadway', faculty='it', roll_no=2)\n",
    "s1.learn()"
   ]
  },
  {
   "cell_type": "code",
   "execution_count": 28,
   "id": "ad95b315",
   "metadata": {},
   "outputs": [
    {
     "name": "stdout",
     "output_type": "stream",
     "text": [
      "Student is learning ['html']\n"
     ]
    }
   ],
   "source": [
    "s1.add_subject('html')\n",
    "s1.add_subject('html')\n",
    "s1.learn()"
   ]
  },
  {
   "cell_type": "code",
   "execution_count": 29,
   "id": "1beb641a",
   "metadata": {},
   "outputs": [],
   "source": [
    "class Rectange:\n",
    "    def __init__(self, l, b):\n",
    "        self.length = l\n",
    "        self.breadth = b\n",
    "        \n",
    "    def area(self):\n",
    "        return self.length * self.breadth\n",
    "    \n",
    "    def perimeter(self):\n",
    "        return 2 * (self.length + self.breadth)"
   ]
  },
  {
   "cell_type": "code",
   "execution_count": 30,
   "id": "405beb2f",
   "metadata": {},
   "outputs": [
    {
     "data": {
      "text/plain": [
       "20"
      ]
     },
     "execution_count": 30,
     "metadata": {},
     "output_type": "execute_result"
    }
   ],
   "source": [
    "r1 = Rectange(l=4, b=5)\n",
    "r1.area()"
   ]
  },
  {
   "cell_type": "code",
   "execution_count": 31,
   "id": "a7dd9b40",
   "metadata": {},
   "outputs": [
    {
     "data": {
      "text/plain": [
       "18"
      ]
     },
     "execution_count": 31,
     "metadata": {},
     "output_type": "execute_result"
    }
   ],
   "source": [
    "r1.perimeter()"
   ]
  },
  {
   "cell_type": "code",
   "execution_count": 32,
   "id": "28e75d94",
   "metadata": {},
   "outputs": [],
   "source": [
    "class Person:\n",
    "    def __init__(self, name ,age, address):\n",
    "        self.name = name\n",
    "        self.age = age\n",
    "        self.address = address\n",
    "    \n",
    "    def eat(self): # self is object\n",
    "        print(f'{self.name} is eating')\n",
    "    \n",
    "    def sleep(self):\n",
    "        print(f'{self.name} is sleeping')\n",
    "    \n",
    "    def walk(self):\n",
    "        print(f'{self.name} is walking')\n",
    "        \n",
    "    def info(self):\n",
    "        print(f\"Name: {self.name}\")\n",
    "        print(f\"Age: {self.age}\")\n",
    "        print(f\"Address: {self.address}\")\n",
    "        \n",
    "        \n",
    "# name, age, address, college, faculty, roll_no\n",
    "class Student:\n",
    "    def __init__(self,name, age, address, college, faculty, roll_no):\n",
    "        self.name = name\n",
    "        self.age = age        \n",
    "        self.address = address        \n",
    "        self.college = college\n",
    "        self.faculty = faculty        \n",
    "        self.roll_no = roll_no\n",
    "        self.subjects = []\n",
    "        \n",
    "    def eat(self): # self is object\n",
    "        print(f'{self.name} is eating')\n",
    "    \n",
    "    def sleep(self):\n",
    "        print(f'{self.name} is sleeping')\n",
    "    \n",
    "    def walk(self):\n",
    "        print(f'{self.name} is walking')\n",
    "        \n",
    "    def info(self):\n",
    "        print(f\"Name: {self.name}\")\n",
    "        print(f\"Age: {self.age}\")\n",
    "        print(f\"Address: {self.address}\")\n",
    "        print(f\"Address: {self.college}\")\n",
    "        print(f\"Faculty: {self.faculty}\")\n",
    "        print(f\"Rollno: {self.roll_no}\")\n",
    "        \n",
    "    def learn(self):\n",
    "        print(f\"Student is learning {self.subjects}\")\n",
    "        \n",
    "    # method / function\n",
    "    def add_subject(self, subject_name):\n",
    "        if subject_name not in self.subjects:\n",
    "            self.subjects.append(subject_name)"
   ]
  },
  {
   "cell_type": "code",
   "execution_count": 33,
   "id": "29fb74bd",
   "metadata": {},
   "outputs": [],
   "source": [
    "# Inheritance\n",
    "\n",
    "# parent class / base class\n",
    "class Parent:\n",
    "    pass\n",
    "\n",
    "\n",
    "# child class / derived class => Child class is inheriting Parent class\n",
    "class Child(Parent):\n",
    "    pass"
   ]
  },
  {
   "cell_type": "code",
   "execution_count": 34,
   "id": "3ef99798",
   "metadata": {},
   "outputs": [],
   "source": [
    "class Person:\n",
    "    def __init__(self, name ,age, address):\n",
    "        self.name = name\n",
    "        self.age = age\n",
    "        self.address = address\n",
    "    \n",
    "    def eat(self): # self is object\n",
    "        print(f'{self.name} is eating')\n",
    "    \n",
    "    def sleep(self):\n",
    "        print(f'{self.name} is sleeping')\n",
    "    \n",
    "    def walk(self):\n",
    "        print(f'{self.name} is walking')\n",
    "        \n",
    "    def info(self):\n",
    "        print(f\"Name: {self.name}\")\n",
    "        print(f\"Age: {self.age}\")\n",
    "        print(f\"Address: {self.address}\")\n",
    "        \n",
    "        \n",
    "class Student(Person):\n",
    "    pass"
   ]
  },
  {
   "cell_type": "code",
   "execution_count": 35,
   "id": "11ca2885",
   "metadata": {},
   "outputs": [
    {
     "name": "stdout",
     "output_type": "stream",
     "text": [
      "Name: ram\n",
      "Age: 22\n",
      "Address: ktm\n"
     ]
    }
   ],
   "source": [
    "s1 = Student('ram', 22, 'ktm')\n",
    "s1.info()"
   ]
  },
  {
   "cell_type": "code",
   "execution_count": 36,
   "id": "7763898d",
   "metadata": {},
   "outputs": [
    {
     "name": "stdout",
     "output_type": "stream",
     "text": [
      "ram is sleeping\n"
     ]
    }
   ],
   "source": [
    "s1.sleep()"
   ]
  },
  {
   "cell_type": "code",
   "execution_count": 39,
   "id": "b853f587",
   "metadata": {},
   "outputs": [],
   "source": [
    "class Person:\n",
    "    def __init__(self, name ,age, address):\n",
    "        self.name = name\n",
    "        self.age = age\n",
    "        self.address = address\n",
    "    \n",
    "    def eat(self): # self is object\n",
    "        print(f'{self.name} is eating')\n",
    "    \n",
    "    def sleep(self):\n",
    "        print(f'{self.name} is sleeping')\n",
    "    \n",
    "    def walk(self):\n",
    "        print(f'{self.name} is walking')\n",
    "        \n",
    "    def info(self):\n",
    "        print(f\"Name: {self.name}\")\n",
    "        print(f\"Age: {self.age}\")\n",
    "        print(f\"Address: {self.address}\")\n",
    "        \n",
    "        \n",
    "class Student(Person):\n",
    "    def __init__(self,name, age, address, college, faculty, roll_no):\n",
    "        self.name = name\n",
    "        self.age = age        \n",
    "        self.address = address        \n",
    "        self.college = college\n",
    "        self.faculty = faculty        \n",
    "        self.roll_no = roll_no\n",
    "        self.subjects = []\n",
    "    \n",
    "    # student class le Person class ko info method override gareko ho\n",
    "    def info(self):\n",
    "        print(f\"Name: {self.name}\")\n",
    "        print(f\"Age: {self.age}\")\n",
    "        print(f\"Address: {self.address}\")\n",
    "        print(f\"College: {self.college}\")\n",
    "        print(f\"Faculty: {self.faculty}\")\n",
    "        print(f\"Rollno: {self.roll_no}\")\n",
    "        \n",
    "    def learn(self):\n",
    "        print(f\"Student is learning {self.subjects}\")\n",
    "        \n",
    "    # method / function\n",
    "    def add_subject(self, subject_name):\n",
    "        if subject_name not in self.subjects:\n",
    "            self.subjects.append(subject_name)"
   ]
  },
  {
   "cell_type": "code",
   "execution_count": 40,
   "id": "4feecb55",
   "metadata": {},
   "outputs": [
    {
     "name": "stdout",
     "output_type": "stream",
     "text": [
      "Student is learning []\n"
     ]
    }
   ],
   "source": [
    "s1 = Student(name=\"ram\", age=22, address='ktm', college='broadway', faculty='it', roll_no=2)\n",
    "s1.learn()"
   ]
  },
  {
   "cell_type": "code",
   "execution_count": 41,
   "id": "c3339590",
   "metadata": {},
   "outputs": [
    {
     "name": "stdout",
     "output_type": "stream",
     "text": [
      "ram is walking\n"
     ]
    }
   ],
   "source": [
    "s1.walk()"
   ]
  },
  {
   "cell_type": "code",
   "execution_count": 44,
   "id": "f5fd7b4a",
   "metadata": {},
   "outputs": [],
   "source": [
    "class Person:\n",
    "    def __init__(self, name ,age, address):\n",
    "        self.name = name\n",
    "        self.age = age\n",
    "        self.address = address\n",
    "    \n",
    "    def eat(self): # self is object\n",
    "        print(f'{self.name} is eating')\n",
    "    \n",
    "    def sleep(self):\n",
    "        print(f'{self.name} is sleeping')\n",
    "    \n",
    "    def walk(self):\n",
    "        print(f'{self.name} is walking')\n",
    "        \n",
    "    def info(self):\n",
    "        print(f\"Name: {self.name}\")\n",
    "        print(f\"Age: {self.age}\")\n",
    "        print(f\"Address: {self.address}\")\n",
    "        \n",
    "        \n",
    "class Student(Person):\n",
    "    def __init__(self,name, age, address, college, faculty, roll_no):\n",
    "        # calling Person's __init__ method\n",
    "        super().__init__(name, age, address)      \n",
    "        self.college = college\n",
    "        self.faculty = faculty        \n",
    "        self.roll_no = roll_no\n",
    "        self.subjects = []\n",
    "    \n",
    "    # student class le Person class ko info method override gareko ho\n",
    "    def info(self):\n",
    "        # calling Person's info method\n",
    "        super().info()\n",
    "        print(f\"College: {self.college}\")\n",
    "        print(f\"Faculty: {self.faculty}\")\n",
    "        print(f\"Rollno: {self.roll_no}\")\n",
    "        \n",
    "    def learn(self):\n",
    "        print(f\"Student is learning {self.subjects}\")\n",
    "        \n",
    "    # method / function\n",
    "    def add_subject(self, subject_name):\n",
    "        if subject_name not in self.subjects:\n",
    "            self.subjects.append(subject_name)"
   ]
  },
  {
   "cell_type": "code",
   "execution_count": 46,
   "id": "cd220ad6",
   "metadata": {},
   "outputs": [
    {
     "name": "stdout",
     "output_type": "stream",
     "text": [
      "Student is learning []\n",
      "Name: ram\n",
      "Age: 22\n",
      "Address: ktm\n",
      "College: broadway\n",
      "Faculty: it\n",
      "Rollno: 2\n"
     ]
    }
   ],
   "source": [
    "s1 = Student(name=\"ram\", age=22, address='ktm', college='broadway', faculty='it', roll_no=2)\n",
    "s1.learn()\n",
    "s1.info()"
   ]
  },
  {
   "cell_type": "code",
   "execution_count": 47,
   "id": "dbbd8ecb",
   "metadata": {},
   "outputs": [],
   "source": [
    "class Person:\n",
    "    pass\n",
    "\n",
    "# single inheritance\n",
    "class Student(Person): \n",
    "    pass"
   ]
  },
  {
   "cell_type": "code",
   "execution_count": 48,
   "id": "458652fb",
   "metadata": {},
   "outputs": [],
   "source": [
    "class Father:\n",
    "    pass\n",
    "\n",
    "class Mother:\n",
    "    pass\n",
    "\n",
    "# multiple inheritance\n",
    "class Daughter(Father, Mother):\n",
    "    pass"
   ]
  },
  {
   "cell_type": "code",
   "execution_count": 50,
   "id": "382903da",
   "metadata": {},
   "outputs": [
    {
     "name": "stdout",
     "output_type": "stream",
     "text": [
      "Inside Person class\n",
      "Name: Jessa Age: 28\n",
      "Inside Company class\n",
      "Name: Google location: Atlanta\n",
      "Inside Employee class\n",
      "Salary: 12000 Skill: Machine Learning\n"
     ]
    }
   ],
   "source": [
    "# Parent class 1\n",
    "class Person:\n",
    "    def person_info(self, name, age):\n",
    "        print('Inside Person class')\n",
    "        print('Name:', name, 'Age:', age)\n",
    "\n",
    "# Parent class 2\n",
    "class Company:\n",
    "    def company_info(self, company_name, location):\n",
    "        print('Inside Company class')\n",
    "        print('Name:', company_name, 'location:', location)\n",
    "\n",
    "# Child class\n",
    "class Employee(Person, Company):\n",
    "    def employee_info(self, salary, skill):\n",
    "        print('Inside Employee class')\n",
    "        print('Salary:', salary, 'Skill:', skill)\n",
    "\n",
    "# Create object of Employee\n",
    "emp = Employee()\n",
    "\n",
    "# access data\n",
    "emp.person_info('Jessa', 28)\n",
    "emp.company_info('Google', 'Atlanta')\n",
    "emp.employee_info(12000, 'Machine Learning')"
   ]
  },
  {
   "cell_type": "code",
   "execution_count": 51,
   "id": "6326aba8",
   "metadata": {},
   "outputs": [],
   "source": [
    "# multi-level inheritance\n",
    "class Person:\n",
    "    pass\n",
    "\n",
    "class Student(Person):\n",
    "    pass\n",
    "\n",
    "# university\n",
    "class BachelorStudent(Student):\n",
    "    pass"
   ]
  },
  {
   "cell_type": "code",
   "execution_count": 52,
   "id": "3a27a3bb",
   "metadata": {},
   "outputs": [],
   "source": [
    "class Person:\n",
    "    def __init__(self, name ,age, address):\n",
    "        self.name = name\n",
    "        self.age = age\n",
    "        self.address = address\n",
    "    \n",
    "    def eat(self): # self is object\n",
    "        print(f'{self.name} is eating')\n",
    "    \n",
    "    def sleep(self):\n",
    "        print(f'{self.name} is sleeping')\n",
    "    \n",
    "    def walk(self):\n",
    "        print(f'{self.name} is walking')\n",
    "        \n",
    "    def info(self):\n",
    "        print(f\"Name: {self.name}\")\n",
    "        print(f\"Age: {self.age}\")\n",
    "        print(f\"Address: {self.address}\")\n",
    "        \n",
    "        \n",
    "class Student(Person):\n",
    "    def __init__(self,name, age, address, college, faculty, roll_no):\n",
    "        # calling Person's __init__ method\n",
    "        super().__init__(name, age, address)      \n",
    "        self.college = college\n",
    "        self.faculty = faculty        \n",
    "        self.roll_no = roll_no\n",
    "        self.subjects = []\n",
    "    \n",
    "    # student class le Person class ko info method override gareko ho\n",
    "    def info(self):\n",
    "        # calling Person's info method\n",
    "        super().info()\n",
    "        print(f\"College: {self.college}\")\n",
    "        print(f\"Faculty: {self.faculty}\")\n",
    "        print(f\"Rollno: {self.roll_no}\")\n",
    "        \n",
    "    def learn(self):\n",
    "        print(f\"Student is learning {self.subjects}\")\n",
    "        \n",
    "    # method / function\n",
    "    def add_subject(self, subject_name):\n",
    "        if subject_name not in self.subjects:\n",
    "            self.subjects.append(subject_name)\n",
    "            \n",
    "class BachelorStudent(Student):\n",
    "    def __init__(self,name, age, address, college, faculty, roll_no, university):\n",
    "        # calling Student's __init__ method\n",
    "        super().__init__(name, age, address, college, faculty, roll_no)      \n",
    "        self.university = university\n",
    "\n",
    "    # student class le Student class ko info method override gareko ho\n",
    "    def info(self):\n",
    "        # calling Student's info method\n",
    "        super().info()\n",
    "        print(f\"University: {self.university}\")"
   ]
  },
  {
   "cell_type": "code",
   "execution_count": 53,
   "id": "400581db",
   "metadata": {},
   "outputs": [
    {
     "name": "stdout",
     "output_type": "stream",
     "text": [
      "Student is learning []\n",
      "Name: ram\n",
      "Age: 22\n",
      "Address: ktm\n",
      "College: broadway\n",
      "Faculty: it\n",
      "Rollno: 2\n",
      "University: TU\n"
     ]
    }
   ],
   "source": [
    "s1 = BachelorStudent(name=\"ram\", age=22, address='ktm', \n",
    "                     college='broadway', faculty='it', \n",
    "                     roll_no=2, university='TU')\n",
    "s1.learn()\n",
    "s1.info()"
   ]
  },
  {
   "cell_type": "code",
   "execution_count": 54,
   "id": "7794f868",
   "metadata": {},
   "outputs": [],
   "source": [
    "# hierarchical inheritance\n",
    "class Person:\n",
    "    pass\n",
    "\n",
    "class Student(Person):\n",
    "    pass\n",
    "\n",
    "class Teacher(Person):\n",
    "    pass\n",
    "\n",
    "class Manager(Person):\n",
    "    pass"
   ]
  },
  {
   "cell_type": "code",
   "execution_count": 56,
   "id": "f5730dfd",
   "metadata": {},
   "outputs": [
    {
     "name": "stdout",
     "output_type": "stream",
     "text": [
      "This is Vehicle\n",
      "Car name is: BMW\n",
      "This is Vehicle\n",
      "Truck name is: Ford\n"
     ]
    }
   ],
   "source": [
    "class Vehicle:\n",
    "    def info(self):\n",
    "        print(\"This is Vehicle\")\n",
    "\n",
    "class Car(Vehicle):\n",
    "    def car_info(self, name):\n",
    "        print(\"Car name is:\", name)\n",
    "\n",
    "class Truck(Vehicle):\n",
    "    def truck_info(self, name):\n",
    "        print(\"Truck name is:\", name)\n",
    "\n",
    "obj1 = Car()\n",
    "obj1.info()\n",
    "obj1.car_info('BMW')\n",
    "\n",
    "obj2 = Truck()\n",
    "obj2.info()\n",
    "obj2.truck_info('Ford')"
   ]
  },
  {
   "cell_type": "code",
   "execution_count": 57,
   "id": "36b17d39",
   "metadata": {},
   "outputs": [
    {
     "name": "stdout",
     "output_type": "stream",
     "text": [
      "Inside Vehicle class\n",
      "Inside Car class\n",
      "Inside SportsCar class\n"
     ]
    }
   ],
   "source": [
    "class Vehicle:\n",
    "    def vehicle_info(self):\n",
    "        print(\"Inside Vehicle class\")\n",
    "\n",
    "class Car(Vehicle):\n",
    "    def car_info(self):\n",
    "        print(\"Inside Car class\")\n",
    "\n",
    "class Truck(Vehicle):\n",
    "    def truck_info(self):\n",
    "        print(\"Inside Truck class\")\n",
    "\n",
    "# Sports Car can inherits properties of Vehicle and Car\n",
    "class SportsCar(Car, Vehicle):\n",
    "    def sports_car_info(self):\n",
    "        print(\"Inside SportsCar class\")\n",
    "\n",
    "# create object\n",
    "s_car = SportsCar()\n",
    "\n",
    "s_car.vehicle_info()\n",
    "s_car.car_info()\n",
    "s_car.sports_car_info()"
   ]
  },
  {
   "cell_type": "code",
   "execution_count": null,
   "id": "e9e901df",
   "metadata": {},
   "outputs": [],
   "source": []
  }
 ],
 "metadata": {
  "kernelspec": {
   "display_name": "Python 3 (ipykernel)",
   "language": "python",
   "name": "python3"
  },
  "language_info": {
   "codemirror_mode": {
    "name": "ipython",
    "version": 3
   },
   "file_extension": ".py",
   "mimetype": "text/x-python",
   "name": "python",
   "nbconvert_exporter": "python",
   "pygments_lexer": "ipython3",
   "version": "3.11.2"
  }
 },
 "nbformat": 4,
 "nbformat_minor": 5
}
